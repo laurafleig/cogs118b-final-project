{
 "cells": [
  {
   "cell_type": "code",
   "execution_count": 1,
   "metadata": {},
   "outputs": [
    {
     "name": "stdout",
     "output_type": "stream",
     "text": [
      "Requirement already satisfied: torch in /Users/adahe/opt/miniconda3/envs/cogs118b/lib/python3.12/site-packages (2.3.1)\n",
      "Requirement already satisfied: torchvision in /Users/adahe/opt/miniconda3/envs/cogs118b/lib/python3.12/site-packages (0.18.1a0)\n",
      "Collecting torchaudio\n",
      "  Downloading torchaudio-2.5.1-cp312-cp312-macosx_11_0_arm64.whl.metadata (6.4 kB)\n",
      "Requirement already satisfied: filelock in /Users/adahe/opt/miniconda3/envs/cogs118b/lib/python3.12/site-packages (from torch) (3.13.1)\n",
      "Requirement already satisfied: typing-extensions>=4.8.0 in /Users/adahe/opt/miniconda3/envs/cogs118b/lib/python3.12/site-packages (from torch) (4.11.0)\n",
      "Requirement already satisfied: sympy in /Users/adahe/opt/miniconda3/envs/cogs118b/lib/python3.12/site-packages (from torch) (1.13.2)\n",
      "Requirement already satisfied: networkx in /Users/adahe/opt/miniconda3/envs/cogs118b/lib/python3.12/site-packages (from torch) (3.3)\n",
      "Requirement already satisfied: jinja2 in /Users/adahe/opt/miniconda3/envs/cogs118b/lib/python3.12/site-packages (from torch) (3.1.4)\n",
      "Requirement already satisfied: fsspec in /Users/adahe/opt/miniconda3/envs/cogs118b/lib/python3.12/site-packages (from torch) (2024.6.1)\n",
      "Requirement already satisfied: numpy in /Users/adahe/opt/miniconda3/envs/cogs118b/lib/python3.12/site-packages (from torchvision) (1.26.4)\n",
      "Requirement already satisfied: pillow!=8.3.*,>=5.3.0 in /Users/adahe/opt/miniconda3/envs/cogs118b/lib/python3.12/site-packages (from torchvision) (11.0.0)\n",
      "Collecting torch\n",
      "  Downloading torch-2.5.1-cp312-none-macosx_11_0_arm64.whl.metadata (28 kB)\n",
      "Requirement already satisfied: setuptools in /Users/adahe/opt/miniconda3/envs/cogs118b/lib/python3.12/site-packages (from torch) (75.1.0)\n",
      "Collecting sympy==1.13.1 (from torch)\n",
      "  Downloading sympy-1.13.1-py3-none-any.whl.metadata (12 kB)\n",
      "Requirement already satisfied: mpmath<1.4,>=1.1.0 in /Users/adahe/opt/miniconda3/envs/cogs118b/lib/python3.12/site-packages (from sympy==1.13.1->torch) (1.3.0)\n",
      "Requirement already satisfied: MarkupSafe>=2.0 in /Users/adahe/opt/miniconda3/envs/cogs118b/lib/python3.12/site-packages (from jinja2->torch) (2.1.3)\n",
      "Downloading torchaudio-2.5.1-cp312-cp312-macosx_11_0_arm64.whl (1.8 MB)\n",
      "\u001b[2K   \u001b[90m━━━━━━━━━━━━━━━━━━━━━━━━━━━━━━━━━━━━━━━━\u001b[0m \u001b[32m1.8/1.8 MB\u001b[0m \u001b[31m620.7 kB/s\u001b[0m eta \u001b[36m0:00:00\u001b[0ma \u001b[36m0:00:01\u001b[0m\n",
      "\u001b[?25hDownloading torch-2.5.1-cp312-none-macosx_11_0_arm64.whl (63.9 MB)\n",
      "\u001b[2K   \u001b[90m━━━━━━━━━━━━━━━━━━━━━━━━━━━━━━━━━━━━━━━━\u001b[0m \u001b[32m63.9/63.9 MB\u001b[0m \u001b[31m1.3 MB/s\u001b[0m eta \u001b[36m0:00:00\u001b[0m00:01\u001b[0m00:02\u001b[0mm\n",
      "\u001b[?25hDownloading sympy-1.13.1-py3-none-any.whl (6.2 MB)\n",
      "\u001b[2K   \u001b[90m━━━━━━━━━━━━━━━━━━━━━━━━━━━━━━━━━━━━━━━━\u001b[0m \u001b[32m6.2/6.2 MB\u001b[0m \u001b[31m905.6 kB/s\u001b[0m eta \u001b[36m0:00:00\u001b[0ma \u001b[36m0:00:01\u001b[0m\n",
      "\u001b[?25hInstalling collected packages: sympy, torch, torchaudio\n",
      "  Attempting uninstall: sympy\n",
      "    Found existing installation: sympy 1.13.2\n",
      "    Uninstalling sympy-1.13.2:\n",
      "      Successfully uninstalled sympy-1.13.2\n",
      "  Attempting uninstall: torch\n",
      "    Found existing installation: torch 2.3.1\n",
      "    Uninstalling torch-2.3.1:\n",
      "      Successfully uninstalled torch-2.3.1\n",
      "Successfully installed sympy-1.13.1 torch-2.5.1 torchaudio-2.5.1\n",
      "Note: you may need to restart the kernel to use updated packages.\n",
      "Requirement already satisfied: ftfy in /Users/adahe/opt/miniconda3/envs/cogs118b/lib/python3.12/site-packages (6.3.1)\n",
      "Requirement already satisfied: regex in /Users/adahe/opt/miniconda3/envs/cogs118b/lib/python3.12/site-packages (2024.11.6)\n",
      "Requirement already satisfied: tqdm in /Users/adahe/opt/miniconda3/envs/cogs118b/lib/python3.12/site-packages (4.67.1)\n",
      "Requirement already satisfied: wcwidth in /Users/adahe/opt/miniconda3/envs/cogs118b/lib/python3.12/site-packages (from ftfy) (0.2.13)\n",
      "Note: you may need to restart the kernel to use updated packages.\n",
      "Collecting git+https://github.com/openai/CLIP.git\n",
      "  Cloning https://github.com/openai/CLIP.git to /private/var/folders/xp/fxzznwj90lzg2gb9lcqcrm9w0000gn/T/pip-req-build-8fjvbsf2\n",
      "  Running command git clone --filter=blob:none --quiet https://github.com/openai/CLIP.git /private/var/folders/xp/fxzznwj90lzg2gb9lcqcrm9w0000gn/T/pip-req-build-8fjvbsf2\n",
      "  Resolved https://github.com/openai/CLIP.git to commit dcba3cb2e2827b402d2701e7e1c7d9fed8a20ef1\n",
      "  Preparing metadata (setup.py) ... \u001b[?25ldone\n",
      "\u001b[?25hRequirement already satisfied: ftfy in /Users/adahe/opt/miniconda3/envs/cogs118b/lib/python3.12/site-packages (from clip==1.0) (6.3.1)\n",
      "Requirement already satisfied: packaging in /Users/adahe/opt/miniconda3/envs/cogs118b/lib/python3.12/site-packages (from clip==1.0) (24.2)\n",
      "Requirement already satisfied: regex in /Users/adahe/opt/miniconda3/envs/cogs118b/lib/python3.12/site-packages (from clip==1.0) (2024.11.6)\n",
      "Requirement already satisfied: tqdm in /Users/adahe/opt/miniconda3/envs/cogs118b/lib/python3.12/site-packages (from clip==1.0) (4.67.1)\n",
      "Requirement already satisfied: torch in /Users/adahe/opt/miniconda3/envs/cogs118b/lib/python3.12/site-packages (from clip==1.0) (2.5.1)\n",
      "Requirement already satisfied: torchvision in /Users/adahe/opt/miniconda3/envs/cogs118b/lib/python3.12/site-packages (from clip==1.0) (0.18.1a0)\n",
      "Requirement already satisfied: wcwidth in /Users/adahe/opt/miniconda3/envs/cogs118b/lib/python3.12/site-packages (from ftfy->clip==1.0) (0.2.13)\n",
      "Requirement already satisfied: filelock in /Users/adahe/opt/miniconda3/envs/cogs118b/lib/python3.12/site-packages (from torch->clip==1.0) (3.13.1)\n",
      "Requirement already satisfied: typing-extensions>=4.8.0 in /Users/adahe/opt/miniconda3/envs/cogs118b/lib/python3.12/site-packages (from torch->clip==1.0) (4.11.0)\n",
      "Requirement already satisfied: networkx in /Users/adahe/opt/miniconda3/envs/cogs118b/lib/python3.12/site-packages (from torch->clip==1.0) (3.3)\n",
      "Requirement already satisfied: jinja2 in /Users/adahe/opt/miniconda3/envs/cogs118b/lib/python3.12/site-packages (from torch->clip==1.0) (3.1.4)\n",
      "Requirement already satisfied: fsspec in /Users/adahe/opt/miniconda3/envs/cogs118b/lib/python3.12/site-packages (from torch->clip==1.0) (2024.6.1)\n",
      "Requirement already satisfied: setuptools in /Users/adahe/opt/miniconda3/envs/cogs118b/lib/python3.12/site-packages (from torch->clip==1.0) (75.1.0)\n",
      "Requirement already satisfied: sympy==1.13.1 in /Users/adahe/opt/miniconda3/envs/cogs118b/lib/python3.12/site-packages (from torch->clip==1.0) (1.13.1)\n",
      "Requirement already satisfied: mpmath<1.4,>=1.1.0 in /Users/adahe/opt/miniconda3/envs/cogs118b/lib/python3.12/site-packages (from sympy==1.13.1->torch->clip==1.0) (1.3.0)\n",
      "Requirement already satisfied: numpy in /Users/adahe/opt/miniconda3/envs/cogs118b/lib/python3.12/site-packages (from torchvision->clip==1.0) (1.26.4)\n",
      "Requirement already satisfied: pillow!=8.3.*,>=5.3.0 in /Users/adahe/opt/miniconda3/envs/cogs118b/lib/python3.12/site-packages (from torchvision->clip==1.0) (11.0.0)\n",
      "Requirement already satisfied: MarkupSafe>=2.0 in /Users/adahe/opt/miniconda3/envs/cogs118b/lib/python3.12/site-packages (from jinja2->torch->clip==1.0) (2.1.3)\n",
      "Note: you may need to restart the kernel to use updated packages.\n"
     ]
    }
   ],
   "source": [
    "# %conda install --yes -c pytorch pytorch=1.7.1 torchvision cudatoolkit=11.0\n",
    "%pip install torch torchvision torchaudio\n",
    "%pip install ftfy regex tqdm\n",
    "%pip install git+https://github.com/openai/CLIP.git"
   ]
  },
  {
   "cell_type": "code",
   "execution_count": 2,
   "metadata": {},
   "outputs": [
    {
     "name": "stdout",
     "output_type": "stream",
     "text": [
      "Python version: 3.10.15 (main, Oct  3 2024, 02:33:33) [Clang 14.0.6 ]\n",
      "\n",
      "Python path:\n",
      "/Users/Laura/anaconda3/envs/cogs118b/lib/python310.zip\n",
      "/Users/Laura/anaconda3/envs/cogs118b/lib/python3.10\n",
      "/Users/Laura/anaconda3/envs/cogs118b/lib/python3.10/lib-dynload\n",
      "\n",
      "/Users/Laura/anaconda3/envs/cogs118b/lib/python3.10/site-packages\n",
      "/Users/Laura/anaconda3/envs/cogs118b/lib/python3.10/site-packages/setuptools/_vendor\n",
      "\n",
      "Installed packages:\n",
      "clip - Version: 1.0\n",
      "\n",
      "CLIP import successful!\n",
      "Available models: ['RN50', 'RN101', 'RN50x4', 'RN50x16', 'RN50x64', 'ViT-B/32', 'ViT-B/16', 'ViT-L/14', 'ViT-L/14@336px']\n"
     ]
    }
   ],
   "source": [
    "#to check if CLIP is successfully installed\n",
    "import sys\n",
    "import site\n",
    "print(\"Python version:\", sys.version)\n",
    "print(\"\\nPython path:\")\n",
    "for path in sys.path:\n",
    "    print(path)\n",
    "\n",
    "print(\"\\nInstalled packages:\")\n",
    "import pkg_resources\n",
    "for package in pkg_resources.working_set:\n",
    "    if \"clip\" in package.key.lower():\n",
    "        print(f\"{package.key} - Version: {package.version}\")\n",
    "\n",
    "try:\n",
    "    import clip\n",
    "    print(\"\\nCLIP import successful!\")\n",
    "    print(\"Available models:\", clip.available_models())\n",
    "except ImportError as e:\n",
    "    print(\"\\nFailed to import CLIP:\", e)"
   ]
  },
  {
   "cell_type": "code",
   "execution_count": 3,
   "metadata": {},
   "outputs": [
    {
     "name": "stdout",
     "output_type": "stream",
     "text": [
      "Model loaded successfully on cpu\n",
      "\n",
      "Embedding shape: (1, 512)\n",
      "First few values: [-0.00865016 -0.00933015  0.01677416 -0.02888286  0.03435755]\n"
     ]
    }
   ],
   "source": [
    "import torch\n",
    "import clip\n",
    "from PIL import Image\n",
    "\n",
    "def get_clip_embedding(image_path):\n",
    "    # Load the model\n",
    "    device = \"cuda\" if torch.cuda.is_available() else \"cpu\"\n",
    "    model, preprocess = clip.load(\"ViT-B/32\", device=device)\n",
    "    print(f\"Model loaded successfully on {device}\")\n",
    "    \n",
    "    # Load and preprocess the image\n",
    "    image = Image.open(image_path)\n",
    "    if image.mode != 'RGB':\n",
    "        image = image.convert('RGB')\n",
    "    image_input = preprocess(image).unsqueeze(0).to(device)\n",
    "    \n",
    "    # Get image features\n",
    "    with torch.no_grad():\n",
    "        image_features = model.encode_image(image_input)\n",
    "        # Normalize the features\n",
    "        image_features = image_features / image_features.norm(dim=-1, keepdim=True)\n",
    "    \n",
    "    return image_features.cpu().numpy()\n",
    "\n",
    "# How to use on one image\n",
    "if __name__ == \"__main__\":\n",
    "    image_path = \"/Users/Laura/Documents/cogs118b-final-project/dog.jpg\"\n",
    "    \n",
    "    embedding = get_clip_embedding(image_path)\n",
    "    print(f\"\\nEmbedding shape: {embedding.shape}\")\n",
    "    print(f\"First few values: {embedding[0, :5]}\")  # Show first 5 values"
   ]
  }
 ],
 "metadata": {
  "kernelspec": {
   "display_name": "cogs118b",
   "language": "python",
   "name": "python3"
  },
  "language_info": {
   "codemirror_mode": {
    "name": "ipython",
    "version": 3
   },
   "file_extension": ".py",
   "mimetype": "text/x-python",
   "name": "python",
   "nbconvert_exporter": "python",
   "pygments_lexer": "ipython3",
   "version": "3.12.5"
  }
 },
 "nbformat": 4,
 "nbformat_minor": 2
}
